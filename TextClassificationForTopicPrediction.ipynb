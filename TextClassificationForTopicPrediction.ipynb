{
  "cells": [
    {
      "cell_type": "markdown",
      "metadata": {
        "id": "view-in-github",
        "colab_type": "text"
      },
      "source": [
        "<a href=\"https://colab.research.google.com/github/ons13/taskmanagermicroservice/blob/main/TextClassificationForTopicPrediction.ipynb\" target=\"_parent\"><img src=\"https://colab.research.google.com/assets/colab-badge.svg\" alt=\"Open In Colab\"/></a>"
      ]
    },
    {
      "cell_type": "code",
      "execution_count": null,
      "metadata": {
        "id": "-unLVAy3TXPf"
      },
      "outputs": [],
      "source": [
        "import torch\n",
        "from torch import nn\n",
        "from torch.utils.data import DataLoader\n",
        "from torchvision import datasets, transforms"
      ]
    },
    {
      "cell_type": "code",
      "execution_count": null,
      "metadata": {
        "colab": {
          "base_uri": "https://localhost:8080/",
          "height": 35
        },
        "id": "j0ES0iSeUNLY",
        "outputId": "8ec8dfae-df81-4acf-f74b-8da4fd9b4da6"
      },
      "outputs": [
        {
          "output_type": "execute_result",
          "data": {
            "text/plain": [
              "'cpu'"
            ],
            "application/vnd.google.colaboratory.intrinsic+json": {
              "type": "string"
            }
          },
          "metadata": {},
          "execution_count": 2
        }
      ],
      "source": [
        "# Setup device-agnostic code\n",
        "device = \"cuda\" if torch.cuda.is_available() else \"cpu\"\n",
        "device"
      ]
    },
    {
      "cell_type": "code",
      "execution_count": null,
      "metadata": {
        "colab": {
          "base_uri": "https://localhost:8080/"
        },
        "id": "Cp3esFJYURAZ",
        "outputId": "b458e21f-8058-4810-e3b9-47f61d609d16"
      },
      "outputs": [
        {
          "output_type": "stream",
          "name": "stdout",
          "text": [
            "Did not find data/bbc directory, creating one...\n",
            "Downloading data...\n",
            "Unzipping data...\n"
          ]
        }
      ],
      "source": [
        "from pathlib import Path\n",
        "import zipfile\n",
        "import requests\n",
        "\n",
        "data_path = Path(\"data/\")\n",
        "text_path = data_path / \"bbc\"\n",
        "if text_path.is_dir():\n",
        "    print(f\"{text_path} directory exists.\")\n",
        "else:\n",
        "    print(f\"Did not find {text_path} directory, creating one...\")\n",
        "    text_path.mkdir(parents=True, exist_ok=True)\n",
        "\n",
        "    with open(data_path / \"bbc.zip\", \"wb\") as f:\n",
        "        request = requests.get(\"https://github.com/HoussemBeltifa/Topic_Prediction/raw/main/bbc.zip\")\n",
        "        print(\"Downloading data...\")\n",
        "        f.write(request.content)\n",
        "\n",
        "    with zipfile.ZipFile(data_path / \"bbc.zip\", \"r\") as zip_ref:\n",
        "        print(\"Unzipping data...\")\n",
        "        zip_ref.extractall(text_path)\n"
      ]
    },
    {
      "cell_type": "code",
      "execution_count": null,
      "metadata": {
        "id": "R9wXccWfaUi9"
      },
      "outputs": [],
      "source": [
        "import os\n",
        "def walk_through_dir(dir_path):\n",
        "  \"\"\"\n",
        "  Walks through dir_path returning its contents.\n",
        "  Args:\n",
        "    dir_path (str or pathlib.Path): target directory\n",
        "\n",
        "  Returns:\n",
        "    A print out of:\n",
        "      number of subdiretories in dir_path\n",
        "      number of articles (files) in each subdirectory\n",
        "      name of each subdirectory\n",
        "  \"\"\"\n",
        "  for dirpath, dirnames, filenames in os.walk(dir_path):\n",
        "    print(f\"There are {len(dirnames)} directories and {len(filenames)} article in '{dirpath}'.\")"
      ]
    },
    {
      "cell_type": "code",
      "execution_count": null,
      "metadata": {
        "colab": {
          "base_uri": "https://localhost:8080/"
        },
        "id": "TbONzp4qUo3x",
        "outputId": "2c6fdd75-3e38-474c-c233-6be555f84a13"
      },
      "outputs": [
        {
          "output_type": "stream",
          "name": "stdout",
          "text": [
            "There are 1 directories and 0 article in 'data/bbc'.\n",
            "There are 2 directories and 0 article in 'data/bbc/bbc'.\n",
            "There are 5 directories and 0 article in 'data/bbc/bbc/train'.\n",
            "There are 0 directories and 408 article in 'data/bbc/bbc/train/business'.\n",
            "There are 0 directories and 320 article in 'data/bbc/bbc/train/tech'.\n",
            "There are 0 directories and 408 article in 'data/bbc/bbc/train/sport'.\n",
            "There are 0 directories and 333 article in 'data/bbc/bbc/train/politics'.\n",
            "There are 0 directories and 308 article in 'data/bbc/bbc/train/entertainment'.\n",
            "There are 5 directories and 0 article in 'data/bbc/bbc/test'.\n",
            "There are 0 directories and 102 article in 'data/bbc/bbc/test/business'.\n",
            "There are 0 directories and 81 article in 'data/bbc/bbc/test/tech'.\n",
            "There are 0 directories and 103 article in 'data/bbc/bbc/test/sport'.\n",
            "There are 0 directories and 84 article in 'data/bbc/bbc/test/politics'.\n",
            "There are 0 directories and 78 article in 'data/bbc/bbc/test/entertainment'.\n"
          ]
        }
      ],
      "source": [
        "walk_through_dir(text_path)"
      ]
    },
    {
      "cell_type": "code",
      "execution_count": null,
      "metadata": {
        "colab": {
          "base_uri": "https://localhost:8080/"
        },
        "id": "sImXqL9TUo0f",
        "outputId": "741a18d8-52bf-488a-8171-038dcdab0fc5"
      },
      "outputs": [
        {
          "output_type": "execute_result",
          "data": {
            "text/plain": [
              "(PosixPath('data/bbc/bbc/train'), PosixPath('data/bbc/bbc/test'))"
            ]
          },
          "metadata": {},
          "execution_count": 6
        }
      ],
      "source": [
        "# Setup train and testing paths\n",
        "train_dir = text_path / \"bbc\" / \"train\"\n",
        "test_dir = text_path / \"bbc\" / \"test\"\n",
        "\n",
        "train_dir, test_dir"
      ]
    },
    {
      "cell_type": "code",
      "execution_count": null,
      "metadata": {
        "colab": {
          "base_uri": "https://localhost:8080/"
        },
        "id": "7C8ejCKhUoxu",
        "outputId": "32f95055-d278-4d7f-f087-194e65ad0ccb"
      },
      "outputs": [
        {
          "output_type": "stream",
          "name": "stdout",
          "text": [
            "Requirement already satisfied: nltk in /usr/local/lib/python3.10/dist-packages (3.8.1)\n",
            "Requirement already satisfied: click in /usr/local/lib/python3.10/dist-packages (from nltk) (8.1.7)\n",
            "Requirement already satisfied: joblib in /usr/local/lib/python3.10/dist-packages (from nltk) (1.3.2)\n",
            "Requirement already satisfied: regex>=2021.8.3 in /usr/local/lib/python3.10/dist-packages (from nltk) (2023.6.3)\n",
            "Requirement already satisfied: tqdm in /usr/local/lib/python3.10/dist-packages (from nltk) (4.66.1)\n",
            "Requirement already satisfied: scikit-learn in /usr/local/lib/python3.10/dist-packages (1.2.2)\n",
            "Requirement already satisfied: numpy>=1.17.3 in /usr/local/lib/python3.10/dist-packages (from scikit-learn) (1.23.5)\n",
            "Requirement already satisfied: scipy>=1.3.2 in /usr/local/lib/python3.10/dist-packages (from scikit-learn) (1.10.1)\n",
            "Requirement already satisfied: joblib>=1.1.1 in /usr/local/lib/python3.10/dist-packages (from scikit-learn) (1.3.2)\n",
            "Requirement already satisfied: threadpoolctl>=2.0.0 in /usr/local/lib/python3.10/dist-packages (from scikit-learn) (3.2.0)\n"
          ]
        }
      ],
      "source": [
        "!pip install nltk\n",
        "!pip install scikit-learn"
      ]
    },
    {
      "cell_type": "code",
      "execution_count": null,
      "metadata": {
        "id": "D_rm3Rj7bPVL"
      },
      "outputs": [],
      "source": [
        "import os\n",
        "\n",
        "def load_data_from_folder(folder_path):\n",
        "    categories = os.listdir(folder_path)\n",
        "    data = []\n",
        "    for category in categories:\n",
        "        category_path = os.path.join(folder_path, category)\n",
        "        for filename in os.listdir(category_path):\n",
        "            file_path = os.path.join(category_path, filename)\n",
        "            with open(file_path, 'r', encoding='utf-8') as file:\n",
        "                data.append((file.read(), category))\n",
        "    return data\n",
        "\n",
        "train_data = load_data_from_folder(train_dir)\n",
        "test_data = load_data_from_folder(test_dir)\n"
      ]
    },
    {
      "cell_type": "code",
      "execution_count": null,
      "metadata": {
        "colab": {
          "base_uri": "https://localhost:8080/",
          "height": 140
        },
        "id": "lO8ZRw6Wpc09",
        "outputId": "037ef382-f476-443d-88fe-bbfeb54108bf"
      },
      "outputs": [
        {
          "output_type": "execute_result",
          "data": {
            "text/plain": [
              "'Gerrard plays down European hopes\\n\\nSteven Gerrard has admitted that Liverpool have little chance of winning the Champions League this season.\\n\\nThe 24-year-old Reds skipper spoke out ahead of Tuesday\\'s first leg at home to Bayer Leverkusen in the last 16, which he will miss through suspension. \"Let\\'s be realistic, there are some fantastic teams left in the Champions League,\" he told BBC Radio Five Live. \"We are just going to try to stay in as long as possible but we realise that maybe it is not our year this year.\" Gerrard has made no secret of his desire to be involved in Europe\\'s premier club competition.\\n\\nLast season he described qualification for the Champions League as the \"be all and end all\" - and rumours persist that he will leave Anfield if the Reds fail to secure a place in the competition. He has consistently been linked with a move away from Liverpool, with Chelsea the favourites to snap up the England midfielder. And Blues boss Jose Mourinho backed Gerrard\\'s view that Rafael Benitez\\'s team could struggle to progress this season. \"Rafa has still time in front of him to build an even better team, maybe he\\'s a little bit behind (right now),\" he told BBC Radio Five Live.\\n\\nGerrard, who fired Liverpool into the last 16 of this season\\'s competition with a brilliant goal in December\\'s win over Olympiakos, insisted he was still fully focused on helping Liverpool to glory this season. The Reds are currently fifth in the Premiership table, five points off the crucial fourth spot, which brings Champions League qualification - and they face Chelsea in Sunday\\'s Carling Cup final. \"It\\'s big couple of months for Liverpool,\" he added. \"We\\'re fighting for the fourth spot for the Champions League for next season but we are still involved in two cup competitions, which are very important. \"We are confident we can upset Chelsea in the Carling Cup final and get to the last eight of the Champions League because, financially, it is big for the club and, personally for myself, it is very good.\"\\n'"
            ],
            "application/vnd.google.colaboratory.intrinsic+json": {
              "type": "string"
            }
          },
          "metadata": {},
          "execution_count": 9
        }
      ],
      "source": [
        "train_data[800][0]"
      ]
    },
    {
      "cell_type": "code",
      "execution_count": null,
      "metadata": {
        "id": "3KnM5Gypl2mZ"
      },
      "outputs": [],
      "source": [
        "# Lowercase the text data while preserving the structure\n",
        "train_data_lowercased = [(text.lower(), label) for text, label in train_data]\n",
        "test_data_lowercased = [(text.lower(), label) for text, label in test_data]"
      ]
    },
    {
      "cell_type": "code",
      "execution_count": null,
      "metadata": {
        "colab": {
          "base_uri": "https://localhost:8080/",
          "height": 140
        },
        "id": "LD7FUvnyi32V",
        "outputId": "89a6572b-4ee4-43c0-b6af-91095ee24721"
      },
      "outputs": [
        {
          "output_type": "execute_result",
          "data": {
            "text/plain": [
              "'gerrard plays down european hopes\\n\\nsteven gerrard has admitted that liverpool have little chance of winning the champions league this season.\\n\\nthe 24-year-old reds skipper spoke out ahead of tuesday\\'s first leg at home to bayer leverkusen in the last 16, which he will miss through suspension. \"let\\'s be realistic, there are some fantastic teams left in the champions league,\" he told bbc radio five live. \"we are just going to try to stay in as long as possible but we realise that maybe it is not our year this year.\" gerrard has made no secret of his desire to be involved in europe\\'s premier club competition.\\n\\nlast season he described qualification for the champions league as the \"be all and end all\" - and rumours persist that he will leave anfield if the reds fail to secure a place in the competition. he has consistently been linked with a move away from liverpool, with chelsea the favourites to snap up the england midfielder. and blues boss jose mourinho backed gerrard\\'s view that rafael benitez\\'s team could struggle to progress this season. \"rafa has still time in front of him to build an even better team, maybe he\\'s a little bit behind (right now),\" he told bbc radio five live.\\n\\ngerrard, who fired liverpool into the last 16 of this season\\'s competition with a brilliant goal in december\\'s win over olympiakos, insisted he was still fully focused on helping liverpool to glory this season. the reds are currently fifth in the premiership table, five points off the crucial fourth spot, which brings champions league qualification - and they face chelsea in sunday\\'s carling cup final. \"it\\'s big couple of months for liverpool,\" he added. \"we\\'re fighting for the fourth spot for the champions league for next season but we are still involved in two cup competitions, which are very important. \"we are confident we can upset chelsea in the carling cup final and get to the last eight of the champions league because, financially, it is big for the club and, personally for myself, it is very good.\"\\n'"
            ],
            "application/vnd.google.colaboratory.intrinsic+json": {
              "type": "string"
            }
          },
          "metadata": {},
          "execution_count": 11
        }
      ],
      "source": [
        "train_data_lowercased[800][0]"
      ]
    },
    {
      "cell_type": "code",
      "execution_count": null,
      "metadata": {
        "colab": {
          "base_uri": "https://localhost:8080/"
        },
        "id": "DgEtsJ83g-84",
        "outputId": "801995a9-a252-4e03-91e1-da0dab8c3011"
      },
      "outputs": [
        {
          "output_type": "stream",
          "name": "stderr",
          "text": [
            "[nltk_data] Downloading package punkt to /root/nltk_data...\n",
            "[nltk_data]   Unzipping tokenizers/punkt.zip.\n"
          ]
        }
      ],
      "source": [
        "import nltk\n",
        "nltk.download('punkt')\n",
        "\n",
        "from nltk.tokenize import word_tokenize\n",
        "\n",
        "# Tokenize the lowercased data\n",
        "train_tokens = [(word_tokenize(text), label) for text, label in train_data_lowercased]\n",
        "test_tokens = [(word_tokenize(text), label) for text, label in test_data_lowercased]\n"
      ]
    },
    {
      "cell_type": "code",
      "execution_count": null,
      "metadata": {
        "colab": {
          "base_uri": "https://localhost:8080/"
        },
        "id": "3_5wia7_pXXh",
        "outputId": "fd410bb8-0e3c-468a-c510-17a99dab8c02"
      },
      "outputs": [
        {
          "output_type": "execute_result",
          "data": {
            "text/plain": [
              "['gerrard',\n",
              " 'plays',\n",
              " 'down',\n",
              " 'european',\n",
              " 'hopes',\n",
              " 'steven',\n",
              " 'gerrard',\n",
              " 'has',\n",
              " 'admitted',\n",
              " 'that',\n",
              " 'liverpool',\n",
              " 'have',\n",
              " 'little',\n",
              " 'chance',\n",
              " 'of',\n",
              " 'winning',\n",
              " 'the',\n",
              " 'champions',\n",
              " 'league',\n",
              " 'this',\n",
              " 'season',\n",
              " '.',\n",
              " 'the',\n",
              " '24-year-old',\n",
              " 'reds',\n",
              " 'skipper',\n",
              " 'spoke',\n",
              " 'out',\n",
              " 'ahead',\n",
              " 'of',\n",
              " 'tuesday',\n",
              " \"'s\",\n",
              " 'first',\n",
              " 'leg',\n",
              " 'at',\n",
              " 'home',\n",
              " 'to',\n",
              " 'bayer',\n",
              " 'leverkusen',\n",
              " 'in',\n",
              " 'the',\n",
              " 'last',\n",
              " '16',\n",
              " ',',\n",
              " 'which',\n",
              " 'he',\n",
              " 'will',\n",
              " 'miss',\n",
              " 'through',\n",
              " 'suspension',\n",
              " '.',\n",
              " '``',\n",
              " 'let',\n",
              " \"'s\",\n",
              " 'be',\n",
              " 'realistic',\n",
              " ',',\n",
              " 'there',\n",
              " 'are',\n",
              " 'some',\n",
              " 'fantastic',\n",
              " 'teams',\n",
              " 'left',\n",
              " 'in',\n",
              " 'the',\n",
              " 'champions',\n",
              " 'league',\n",
              " ',',\n",
              " \"''\",\n",
              " 'he',\n",
              " 'told',\n",
              " 'bbc',\n",
              " 'radio',\n",
              " 'five',\n",
              " 'live',\n",
              " '.',\n",
              " '``',\n",
              " 'we',\n",
              " 'are',\n",
              " 'just',\n",
              " 'going',\n",
              " 'to',\n",
              " 'try',\n",
              " 'to',\n",
              " 'stay',\n",
              " 'in',\n",
              " 'as',\n",
              " 'long',\n",
              " 'as',\n",
              " 'possible',\n",
              " 'but',\n",
              " 'we',\n",
              " 'realise',\n",
              " 'that',\n",
              " 'maybe',\n",
              " 'it',\n",
              " 'is',\n",
              " 'not',\n",
              " 'our',\n",
              " 'year',\n",
              " 'this',\n",
              " 'year',\n",
              " '.',\n",
              " \"''\",\n",
              " 'gerrard',\n",
              " 'has',\n",
              " 'made',\n",
              " 'no',\n",
              " 'secret',\n",
              " 'of',\n",
              " 'his',\n",
              " 'desire',\n",
              " 'to',\n",
              " 'be',\n",
              " 'involved',\n",
              " 'in',\n",
              " 'europe',\n",
              " \"'s\",\n",
              " 'premier',\n",
              " 'club',\n",
              " 'competition',\n",
              " '.',\n",
              " 'last',\n",
              " 'season',\n",
              " 'he',\n",
              " 'described',\n",
              " 'qualification',\n",
              " 'for',\n",
              " 'the',\n",
              " 'champions',\n",
              " 'league',\n",
              " 'as',\n",
              " 'the',\n",
              " '``',\n",
              " 'be',\n",
              " 'all',\n",
              " 'and',\n",
              " 'end',\n",
              " 'all',\n",
              " \"''\",\n",
              " '-',\n",
              " 'and',\n",
              " 'rumours',\n",
              " 'persist',\n",
              " 'that',\n",
              " 'he',\n",
              " 'will',\n",
              " 'leave',\n",
              " 'anfield',\n",
              " 'if',\n",
              " 'the',\n",
              " 'reds',\n",
              " 'fail',\n",
              " 'to',\n",
              " 'secure',\n",
              " 'a',\n",
              " 'place',\n",
              " 'in',\n",
              " 'the',\n",
              " 'competition',\n",
              " '.',\n",
              " 'he',\n",
              " 'has',\n",
              " 'consistently',\n",
              " 'been',\n",
              " 'linked',\n",
              " 'with',\n",
              " 'a',\n",
              " 'move',\n",
              " 'away',\n",
              " 'from',\n",
              " 'liverpool',\n",
              " ',',\n",
              " 'with',\n",
              " 'chelsea',\n",
              " 'the',\n",
              " 'favourites',\n",
              " 'to',\n",
              " 'snap',\n",
              " 'up',\n",
              " 'the',\n",
              " 'england',\n",
              " 'midfielder',\n",
              " '.',\n",
              " 'and',\n",
              " 'blues',\n",
              " 'boss',\n",
              " 'jose',\n",
              " 'mourinho',\n",
              " 'backed',\n",
              " 'gerrard',\n",
              " \"'s\",\n",
              " 'view',\n",
              " 'that',\n",
              " 'rafael',\n",
              " 'benitez',\n",
              " \"'s\",\n",
              " 'team',\n",
              " 'could',\n",
              " 'struggle',\n",
              " 'to',\n",
              " 'progress',\n",
              " 'this',\n",
              " 'season',\n",
              " '.',\n",
              " '``',\n",
              " 'rafa',\n",
              " 'has',\n",
              " 'still',\n",
              " 'time',\n",
              " 'in',\n",
              " 'front',\n",
              " 'of',\n",
              " 'him',\n",
              " 'to',\n",
              " 'build',\n",
              " 'an',\n",
              " 'even',\n",
              " 'better',\n",
              " 'team',\n",
              " ',',\n",
              " 'maybe',\n",
              " 'he',\n",
              " \"'s\",\n",
              " 'a',\n",
              " 'little',\n",
              " 'bit',\n",
              " 'behind',\n",
              " '(',\n",
              " 'right',\n",
              " 'now',\n",
              " ')',\n",
              " ',',\n",
              " \"''\",\n",
              " 'he',\n",
              " 'told',\n",
              " 'bbc',\n",
              " 'radio',\n",
              " 'five',\n",
              " 'live',\n",
              " '.',\n",
              " 'gerrard',\n",
              " ',',\n",
              " 'who',\n",
              " 'fired',\n",
              " 'liverpool',\n",
              " 'into',\n",
              " 'the',\n",
              " 'last',\n",
              " '16',\n",
              " 'of',\n",
              " 'this',\n",
              " 'season',\n",
              " \"'s\",\n",
              " 'competition',\n",
              " 'with',\n",
              " 'a',\n",
              " 'brilliant',\n",
              " 'goal',\n",
              " 'in',\n",
              " 'december',\n",
              " \"'s\",\n",
              " 'win',\n",
              " 'over',\n",
              " 'olympiakos',\n",
              " ',',\n",
              " 'insisted',\n",
              " 'he',\n",
              " 'was',\n",
              " 'still',\n",
              " 'fully',\n",
              " 'focused',\n",
              " 'on',\n",
              " 'helping',\n",
              " 'liverpool',\n",
              " 'to',\n",
              " 'glory',\n",
              " 'this',\n",
              " 'season',\n",
              " '.',\n",
              " 'the',\n",
              " 'reds',\n",
              " 'are',\n",
              " 'currently',\n",
              " 'fifth',\n",
              " 'in',\n",
              " 'the',\n",
              " 'premiership',\n",
              " 'table',\n",
              " ',',\n",
              " 'five',\n",
              " 'points',\n",
              " 'off',\n",
              " 'the',\n",
              " 'crucial',\n",
              " 'fourth',\n",
              " 'spot',\n",
              " ',',\n",
              " 'which',\n",
              " 'brings',\n",
              " 'champions',\n",
              " 'league',\n",
              " 'qualification',\n",
              " '-',\n",
              " 'and',\n",
              " 'they',\n",
              " 'face',\n",
              " 'chelsea',\n",
              " 'in',\n",
              " 'sunday',\n",
              " \"'s\",\n",
              " 'carling',\n",
              " 'cup',\n",
              " 'final',\n",
              " '.',\n",
              " '``',\n",
              " 'it',\n",
              " \"'s\",\n",
              " 'big',\n",
              " 'couple',\n",
              " 'of',\n",
              " 'months',\n",
              " 'for',\n",
              " 'liverpool',\n",
              " ',',\n",
              " \"''\",\n",
              " 'he',\n",
              " 'added',\n",
              " '.',\n",
              " '``',\n",
              " 'we',\n",
              " \"'re\",\n",
              " 'fighting',\n",
              " 'for',\n",
              " 'the',\n",
              " 'fourth',\n",
              " 'spot',\n",
              " 'for',\n",
              " 'the',\n",
              " 'champions',\n",
              " 'league',\n",
              " 'for',\n",
              " 'next',\n",
              " 'season',\n",
              " 'but',\n",
              " 'we',\n",
              " 'are',\n",
              " 'still',\n",
              " 'involved',\n",
              " 'in',\n",
              " 'two',\n",
              " 'cup',\n",
              " 'competitions',\n",
              " ',',\n",
              " 'which',\n",
              " 'are',\n",
              " 'very',\n",
              " 'important',\n",
              " '.',\n",
              " '``',\n",
              " 'we',\n",
              " 'are',\n",
              " 'confident',\n",
              " 'we',\n",
              " 'can',\n",
              " 'upset',\n",
              " 'chelsea',\n",
              " 'in',\n",
              " 'the',\n",
              " 'carling',\n",
              " 'cup',\n",
              " 'final',\n",
              " 'and',\n",
              " 'get',\n",
              " 'to',\n",
              " 'the',\n",
              " 'last',\n",
              " 'eight',\n",
              " 'of',\n",
              " 'the',\n",
              " 'champions',\n",
              " 'league',\n",
              " 'because',\n",
              " ',',\n",
              " 'financially',\n",
              " ',',\n",
              " 'it',\n",
              " 'is',\n",
              " 'big',\n",
              " 'for',\n",
              " 'the',\n",
              " 'club',\n",
              " 'and',\n",
              " ',',\n",
              " 'personally',\n",
              " 'for',\n",
              " 'myself',\n",
              " ',',\n",
              " 'it',\n",
              " 'is',\n",
              " 'very',\n",
              " 'good',\n",
              " '.',\n",
              " \"''\"]"
            ]
          },
          "metadata": {},
          "execution_count": 13
        }
      ],
      "source": [
        "train_tokens[800][0]"
      ]
    },
    {
      "cell_type": "code",
      "execution_count": null,
      "metadata": {
        "colab": {
          "base_uri": "https://localhost:8080/"
        },
        "id": "6Mi_3Sm1g-tA",
        "outputId": "102325c9-c559-4c92-a054-6e36abd56de7"
      },
      "outputs": [
        {
          "output_type": "stream",
          "name": "stderr",
          "text": [
            "[nltk_data] Downloading package stopwords to /root/nltk_data...\n",
            "[nltk_data]   Unzipping corpora/stopwords.zip.\n"
          ]
        }
      ],
      "source": [
        "nltk.download('stopwords')\n",
        "\n",
        "from nltk.corpus import stopwords\n",
        "\n",
        "# Get the list of stopwords\n",
        "stop_words = set(stopwords.words('english'))\n",
        "\n",
        "# Function to remove stopwords from tokenized data\n",
        "def remove_stopwords(tokens):\n",
        "    return [word for word in tokens if word not in stop_words]\n",
        "\n",
        "# Remove stopwords from tokenized data\n",
        "train_tokens_no_stopwords = [(remove_stopwords(tokens), label) for tokens, label in train_tokens]\n",
        "test_tokens_no_stopwords = [(remove_stopwords(tokens), label) for tokens, label in test_tokens]\n"
      ]
    },
    {
      "cell_type": "code",
      "execution_count": null,
      "metadata": {
        "colab": {
          "base_uri": "https://localhost:8080/"
        },
        "id": "fDnIhh1OpwU_",
        "outputId": "c8de7964-957a-43a3-cdd1-8132a175d814"
      },
      "outputs": [
        {
          "output_type": "execute_result",
          "data": {
            "text/plain": [
              "['gerrard',\n",
              " 'plays',\n",
              " 'european',\n",
              " 'hopes',\n",
              " 'steven',\n",
              " 'gerrard',\n",
              " 'admitted',\n",
              " 'liverpool',\n",
              " 'little',\n",
              " 'chance',\n",
              " 'winning',\n",
              " 'champions',\n",
              " 'league',\n",
              " 'season',\n",
              " '.',\n",
              " '24-year-old',\n",
              " 'reds',\n",
              " 'skipper',\n",
              " 'spoke',\n",
              " 'ahead',\n",
              " 'tuesday',\n",
              " \"'s\",\n",
              " 'first',\n",
              " 'leg',\n",
              " 'home',\n",
              " 'bayer',\n",
              " 'leverkusen',\n",
              " 'last',\n",
              " '16',\n",
              " ',',\n",
              " 'miss',\n",
              " 'suspension',\n",
              " '.',\n",
              " '``',\n",
              " 'let',\n",
              " \"'s\",\n",
              " 'realistic',\n",
              " ',',\n",
              " 'fantastic',\n",
              " 'teams',\n",
              " 'left',\n",
              " 'champions',\n",
              " 'league',\n",
              " ',',\n",
              " \"''\",\n",
              " 'told',\n",
              " 'bbc',\n",
              " 'radio',\n",
              " 'five',\n",
              " 'live',\n",
              " '.',\n",
              " '``',\n",
              " 'going',\n",
              " 'try',\n",
              " 'stay',\n",
              " 'long',\n",
              " 'possible',\n",
              " 'realise',\n",
              " 'maybe',\n",
              " 'year',\n",
              " 'year',\n",
              " '.',\n",
              " \"''\",\n",
              " 'gerrard',\n",
              " 'made',\n",
              " 'secret',\n",
              " 'desire',\n",
              " 'involved',\n",
              " 'europe',\n",
              " \"'s\",\n",
              " 'premier',\n",
              " 'club',\n",
              " 'competition',\n",
              " '.',\n",
              " 'last',\n",
              " 'season',\n",
              " 'described',\n",
              " 'qualification',\n",
              " 'champions',\n",
              " 'league',\n",
              " '``',\n",
              " 'end',\n",
              " \"''\",\n",
              " '-',\n",
              " 'rumours',\n",
              " 'persist',\n",
              " 'leave',\n",
              " 'anfield',\n",
              " 'reds',\n",
              " 'fail',\n",
              " 'secure',\n",
              " 'place',\n",
              " 'competition',\n",
              " '.',\n",
              " 'consistently',\n",
              " 'linked',\n",
              " 'move',\n",
              " 'away',\n",
              " 'liverpool',\n",
              " ',',\n",
              " 'chelsea',\n",
              " 'favourites',\n",
              " 'snap',\n",
              " 'england',\n",
              " 'midfielder',\n",
              " '.',\n",
              " 'blues',\n",
              " 'boss',\n",
              " 'jose',\n",
              " 'mourinho',\n",
              " 'backed',\n",
              " 'gerrard',\n",
              " \"'s\",\n",
              " 'view',\n",
              " 'rafael',\n",
              " 'benitez',\n",
              " \"'s\",\n",
              " 'team',\n",
              " 'could',\n",
              " 'struggle',\n",
              " 'progress',\n",
              " 'season',\n",
              " '.',\n",
              " '``',\n",
              " 'rafa',\n",
              " 'still',\n",
              " 'time',\n",
              " 'front',\n",
              " 'build',\n",
              " 'even',\n",
              " 'better',\n",
              " 'team',\n",
              " ',',\n",
              " 'maybe',\n",
              " \"'s\",\n",
              " 'little',\n",
              " 'bit',\n",
              " 'behind',\n",
              " '(',\n",
              " 'right',\n",
              " ')',\n",
              " ',',\n",
              " \"''\",\n",
              " 'told',\n",
              " 'bbc',\n",
              " 'radio',\n",
              " 'five',\n",
              " 'live',\n",
              " '.',\n",
              " 'gerrard',\n",
              " ',',\n",
              " 'fired',\n",
              " 'liverpool',\n",
              " 'last',\n",
              " '16',\n",
              " 'season',\n",
              " \"'s\",\n",
              " 'competition',\n",
              " 'brilliant',\n",
              " 'goal',\n",
              " 'december',\n",
              " \"'s\",\n",
              " 'win',\n",
              " 'olympiakos',\n",
              " ',',\n",
              " 'insisted',\n",
              " 'still',\n",
              " 'fully',\n",
              " 'focused',\n",
              " 'helping',\n",
              " 'liverpool',\n",
              " 'glory',\n",
              " 'season',\n",
              " '.',\n",
              " 'reds',\n",
              " 'currently',\n",
              " 'fifth',\n",
              " 'premiership',\n",
              " 'table',\n",
              " ',',\n",
              " 'five',\n",
              " 'points',\n",
              " 'crucial',\n",
              " 'fourth',\n",
              " 'spot',\n",
              " ',',\n",
              " 'brings',\n",
              " 'champions',\n",
              " 'league',\n",
              " 'qualification',\n",
              " '-',\n",
              " 'face',\n",
              " 'chelsea',\n",
              " 'sunday',\n",
              " \"'s\",\n",
              " 'carling',\n",
              " 'cup',\n",
              " 'final',\n",
              " '.',\n",
              " '``',\n",
              " \"'s\",\n",
              " 'big',\n",
              " 'couple',\n",
              " 'months',\n",
              " 'liverpool',\n",
              " ',',\n",
              " \"''\",\n",
              " 'added',\n",
              " '.',\n",
              " '``',\n",
              " \"'re\",\n",
              " 'fighting',\n",
              " 'fourth',\n",
              " 'spot',\n",
              " 'champions',\n",
              " 'league',\n",
              " 'next',\n",
              " 'season',\n",
              " 'still',\n",
              " 'involved',\n",
              " 'two',\n",
              " 'cup',\n",
              " 'competitions',\n",
              " ',',\n",
              " 'important',\n",
              " '.',\n",
              " '``',\n",
              " 'confident',\n",
              " 'upset',\n",
              " 'chelsea',\n",
              " 'carling',\n",
              " 'cup',\n",
              " 'final',\n",
              " 'get',\n",
              " 'last',\n",
              " 'eight',\n",
              " 'champions',\n",
              " 'league',\n",
              " ',',\n",
              " 'financially',\n",
              " ',',\n",
              " 'big',\n",
              " 'club',\n",
              " ',',\n",
              " 'personally',\n",
              " ',',\n",
              " 'good',\n",
              " '.',\n",
              " \"''\"]"
            ]
          },
          "metadata": {},
          "execution_count": 15
        }
      ],
      "source": [
        "train_tokens_no_stopwords[800][0]"
      ]
    },
    {
      "cell_type": "code",
      "execution_count": null,
      "metadata": {
        "id": "q5YZKe4Dq-60"
      },
      "outputs": [],
      "source": [
        "import re\n",
        "\n",
        "# Function to remove special characters from a list of strings\n",
        "def remove_special_characters(texts):\n",
        "    cleaned_texts = []\n",
        "    # Define the pattern to match special characters\n",
        "    pattern = r'[^a-zA-Z\\s]'\n",
        "    for text in texts:\n",
        "        cleaned_text = re.sub(pattern, '', text).strip()\n",
        "        if cleaned_text:  # Check if the cleaned text is not empty\n",
        "            cleaned_texts.append(cleaned_text)\n",
        "    return cleaned_texts\n",
        "\n",
        "train_data_f = [(remove_special_characters(text), label) for text, label in train_tokens_no_stopwords]\n",
        "test_data_f = [(remove_special_characters(text), label) for text, label in test_tokens_no_stopwords]"
      ]
    },
    {
      "cell_type": "code",
      "execution_count": null,
      "metadata": {
        "colab": {
          "base_uri": "https://localhost:8080/",
          "height": 35
        },
        "id": "rbMWZvMBrdJc",
        "outputId": "70e657ed-03b3-4d77-d1e4-f9017df8e0c5"
      },
      "outputs": [
        {
          "output_type": "execute_result",
          "data": {
            "text/plain": [
              "'sport'"
            ],
            "application/vnd.google.colaboratory.intrinsic+json": {
              "type": "string"
            }
          },
          "metadata": {},
          "execution_count": 17
        }
      ],
      "source": [
        "train_data_f[800][1]"
      ]
    },
    {
      "cell_type": "code",
      "execution_count": null,
      "metadata": {
        "id": "WzxuNnB6wzCj"
      },
      "outputs": [],
      "source": []
    },
    {
      "cell_type": "code",
      "execution_count": null,
      "metadata": {
        "colab": {
          "base_uri": "https://localhost:8080/"
        },
        "id": "x6Egx5InhDqK",
        "outputId": "ed98e30a-0bc8-4cad-e303-57a6b3128516"
      },
      "outputs": [
        {
          "output_type": "execute_result",
          "data": {
            "text/plain": [
              "['business', 'entertainment', 'politics', 'sport', 'tech']"
            ]
          },
          "metadata": {},
          "execution_count": 18
        }
      ],
      "source": [
        "# Get class names as a list\n",
        "a = [label for text,label in train_data_f]\n",
        "class_names = list(dict.fromkeys(sorted(a)))\n",
        "class_names"
      ]
    },
    {
      "cell_type": "code",
      "execution_count": null,
      "metadata": {
        "colab": {
          "base_uri": "https://localhost:8080/"
        },
        "id": "KMivp4plg_ZP",
        "outputId": "8ed5935b-2650-443b-e399-544d8c84ec24"
      },
      "outputs": [
        {
          "output_type": "execute_result",
          "data": {
            "text/plain": [
              "{'business': 0, 'entertainment': 1, 'politics': 2, 'sport': 3, 'tech': 4}"
            ]
          },
          "metadata": {},
          "execution_count": 19
        }
      ],
      "source": [
        "# Can also get class names as a dict\n",
        "class_names_dict = {label: index for index, label in enumerate(sorted(set(label for _, label in train_data_f)))}\n",
        "\n",
        "class_names_dict"
      ]
    },
    {
      "cell_type": "code",
      "execution_count": null,
      "metadata": {
        "colab": {
          "base_uri": "https://localhost:8080/"
        },
        "id": "BLK45G6zhERc",
        "outputId": "4faa24c0-b9ac-465e-ef1b-8a96f137a1df"
      },
      "outputs": [
        {
          "output_type": "execute_result",
          "data": {
            "text/plain": [
              "(1777, 448)"
            ]
          },
          "metadata": {},
          "execution_count": 20
        }
      ],
      "source": [
        "# Check the lengths\n",
        "len(train_data_f), len(test_data_f)"
      ]
    },
    {
      "cell_type": "code",
      "execution_count": null,
      "metadata": {
        "id": "x6j8nFuQ5hcF"
      },
      "outputs": [],
      "source": [
        "import torch\n",
        "import torch.nn as nn\n",
        "import torch.optim as optim\n",
        "\n",
        "\n",
        "# Create vocabulary and label mapping\n",
        "all_tokens = [token for tokens, _ in train_data_f + test_data_f for token in tokens]\n",
        "vocab = {token: index for index, token in enumerate(set(all_tokens))}\n",
        "label_vocab = {label: index for index, label in enumerate(sorted(set(label for _, label in train_data_f)))}\n",
        "\n",
        "# Convert tokenized text to numericalized tensors\n",
        "numericalized_texts = [[vocab[token] for token in tokens] for tokens, _ in train_data_f]\n",
        "numericalized_labels = [label_vocab[label] for _, label in train_data_f]\n",
        "\n",
        "# Define the model\n",
        "class Model(nn.Module):\n",
        "    def __init__(self, vocab_size, embedding_dim, hidden_dim, output_dim):\n",
        "        super(Model, self).__init__()\n",
        "        self.embedding = nn.EmbeddingBag(vocab_size, embedding_dim, mode='mean')\n",
        "        self.fc1 = nn.Linear(embedding_dim, hidden_dim)\n",
        "        self.fc2 = nn.Linear(hidden_dim, hidden_dim)\n",
        "        self.fc5 = nn.Linear(hidden_dim, output_dim)\n",
        "        self.fc3 = nn.ReLU()\n",
        "        self.fc4 = nn.Dropout(p=0.3)\n",
        "\n",
        "    def forward(self, text):\n",
        "        embedded = self.embedding(text)\n",
        "        x=self.fc1(embedded)\n",
        "        x=self.fc3(x)\n",
        "        x=self.fc4(x)\n",
        "        x=self.fc2(x)\n",
        "        x=self.fc3(x)\n",
        "        x=self.fc4(x)\n",
        "        x=self.fc5(x)\n",
        "        return x\n",
        "\n",
        "# Initialize the model\n",
        "model = Model(vocab_size=len(vocab), embedding_dim=100, hidden_dim=128, output_dim=len(label_vocab))\n"
      ]
    },
    {
      "cell_type": "code",
      "execution_count": null,
      "metadata": {
        "colab": {
          "base_uri": "https://localhost:8080/"
        },
        "id": "iHm97Nwe0G9h",
        "outputId": "9895259d-2467-43c5-a868-2d2e8c5fda89"
      },
      "outputs": [
        {
          "output_type": "execute_result",
          "data": {
            "text/plain": [
              "30239"
            ]
          },
          "metadata": {},
          "execution_count": 22
        }
      ],
      "source": [
        "len(vocab)"
      ]
    },
    {
      "cell_type": "code",
      "execution_count": null,
      "metadata": {
        "colab": {
          "base_uri": "https://localhost:8080/"
        },
        "id": "3JJem-Hz0Jt8",
        "outputId": "7def7f1b-273d-44a9-addd-0ea4d786dc01"
      },
      "outputs": [
        {
          "output_type": "execute_result",
          "data": {
            "text/plain": [
              "5"
            ]
          },
          "metadata": {},
          "execution_count": 23
        }
      ],
      "source": [
        "len(label_vocab)"
      ]
    },
    {
      "cell_type": "code",
      "execution_count": null,
      "metadata": {
        "id": "49rYqwhZkuJ8",
        "colab": {
          "base_uri": "https://localhost:8080/",
          "height": 84,
          "referenced_widgets": [
            "67fa97756d1447f1905837ea568711b1",
            "e661a0ea37164102a63d629236a20024",
            "1983b627e3f0405f99fb179482e1d08f",
            "645d738934f740a4baeff76b18c7bf12",
            "228fba89084445bfaf568bd5b806b0ce",
            "085f79a7781f4489b2379bcf923a9726",
            "249cbd2b135446fbb1f9320c5a5a1f7b",
            "ccc875b8705c4ffcad4adf836c919551",
            "e557efb8473c4b6aa864de81374094aa",
            "f1091d9edae047a6996990e2236f74b6",
            "2d2773ec89704b0d8b321870c406120f"
          ]
        },
        "outputId": "a698ec50-1ff0-44f8-8d0e-fe0b85bd21c1"
      },
      "outputs": [
        {
          "output_type": "display_data",
          "data": {
            "text/plain": [
              "  0%|          | 0/10 [00:00<?, ?it/s]"
            ],
            "application/vnd.jupyter.widget-view+json": {
              "version_major": 2,
              "version_minor": 0,
              "model_id": "67fa97756d1447f1905837ea568711b1"
            }
          },
          "metadata": {}
        },
        {
          "output_type": "stream",
          "name": "stdout",
          "text": [
            "Epoch 1, Loss: 0.6328815091410231\n",
            "Epoch 2, Loss: 0.3493325250976081\n"
          ]
        }
      ],
      "source": [
        "from tqdm.auto import tqdm\n",
        "\n",
        "# Loss function and optimizer\n",
        "criterion = nn.CrossEntropyLoss()\n",
        "optimizer = optim.Adam(model.parameters())\n",
        "\n",
        "epochs = 10\n",
        "# Training loop\n",
        "for epoch in tqdm(range(epochs)):\n",
        "    running_loss = 0.0\n",
        "    for text, label in zip(numericalized_texts, numericalized_labels):\n",
        "        optimizer.zero_grad()\n",
        "        text = torch.tensor(text, dtype=torch.long)\n",
        "        output = model(text.unsqueeze(0))\n",
        "        loss = criterion(output, torch.tensor([label], dtype=torch.long))\n",
        "        loss.backward()\n",
        "        optimizer.step()\n",
        "\n",
        "        running_loss += loss.item()\n",
        "    print(f\"Epoch {epoch+1}, Loss: {running_loss / len(train_data)}\")"
      ]
    },
    {
      "cell_type": "code",
      "execution_count": null,
      "metadata": {
        "id": "VAEh4_yY0dPL"
      },
      "outputs": [],
      "source": [
        "# Test loop\n",
        "model.eval()\n",
        "\n",
        "correct_predictions = 0\n",
        "total_samples = len(test_data_f)\n",
        "\n",
        "with torch.no_grad():\n",
        "    for text, label in test_data_f:\n",
        "        text = torch.tensor([vocab[token] for token in text], dtype=torch.long)\n",
        "        output = model(text.unsqueeze(0))\n",
        "        predicted_label = torch.argmax(output).item()\n",
        "        true_label = label_vocab[label]\n",
        "\n",
        "        if predicted_label == true_label:\n",
        "            correct_predictions += 1\n",
        "\n",
        "accuracy = correct_predictions / total_samples\n",
        "print(f\"Test Accuracy: {accuracy * 100:.2f}%\")\n"
      ]
    },
    {
      "cell_type": "code",
      "execution_count": null,
      "metadata": {
        "id": "-BgZoKCSbPRt"
      },
      "outputs": [],
      "source": [
        "import torch\n",
        "import torch.nn.functional as F\n",
        "\n",
        "def predict_topic(model, article, vocab, label_vocab):\n",
        "    # Tokenize the article\n",
        "    text = article.lower()\n",
        "    text = word_tokenize(text)\n",
        "    text = remove_stopwords(text)\n",
        "    text = remove_special_characters(text)\n",
        "\n",
        "    # Filter out unknown words\n",
        "    text = [token for token in text if token in vocab]\n",
        "\n",
        "    # Convert tokens to numericalized tensor\n",
        "    numericalized_tokens = torch.tensor(\n",
        "        [vocab[token] for token in text], dtype=torch.long)\n",
        "\n",
        "    # Check if there are any tokens left after filtering out unknown words\n",
        "    if len(numericalized_tokens) == 0:\n",
        "        raise ValueError(\"All words in the article are unknown to the model.\")\n",
        "\n",
        "    # Pass the tensor through the model\n",
        "    model.eval()\n",
        "    with torch.no_grad():\n",
        "        output = model(numericalized_tokens.unsqueeze(0))\n",
        "\n",
        "    # Interpret the model's output\n",
        "    predicted_class_index = torch.argmax(output).item()\n",
        "    predicted_topic = list(label_vocab.keys())[list(\n",
        "        label_vocab.values()).index(predicted_class_index)]\n",
        "\n",
        "    return predicted_topic\n"
      ]
    },
    {
      "cell_type": "code",
      "execution_count": null,
      "metadata": {
        "id": "zrAGHrMzbPPa"
      },
      "outputs": [],
      "source": [
        "\n",
        "article = \"DaimlerChrysler's 2004 sales rise\\nUS-German carmaker DaimlerChrysler has sold 2.1% more cars in 2004 than in the previous year, as solid Chrysler sales offset a weak showing for Mercedes.\\nSales totalled 3.9 million units worldwide during 2004, the company said at the Detroit Motor Show. A switch to new models hit luxury marque Mercedes-Benz, with sales down 3.1% at 1.06 million. Chrysler avoided the fate of US rivals Ford and General Motors, both of whom lost ground to Japanese firms. Its sales rose 3.5% to 2.7 million units.\\nSimilarly on the up was the Smart brand of compact cars, with the division's sales jumping by 21.1% during 2004 to 136,000. The future of the brand - which is controlled by the Mercedes group within DaimlerChrysler - remains in question, however. Smart has consistently lost money since it started trading in 1998, and new model launches are now 'on hold', said Mercedes chief executive Eckhard Cordes. In Europe, the Smart will now go on sale through regular Mercedes dealerships as well as its own dealer network, Mr Cordes said.\"\n",
        "\n",
        "predicted_topic = predict_topic(model, vocab, label_vocab, article)\n",
        "print(f\"Predicted Topic: {predicted_topic}\")\n"
      ]
    },
    {
      "cell_type": "code",
      "execution_count": null,
      "metadata": {
        "id": "xI9UbNDzTtRk"
      },
      "outputs": [],
      "source": []
    },
    {
      "cell_type": "code",
      "execution_count": null,
      "metadata": {
        "id": "KM1TWUMWkgGA"
      },
      "outputs": [],
      "source": []
    },
    {
      "cell_type": "code",
      "execution_count": null,
      "metadata": {
        "id": "1XxoNKsSkf8r"
      },
      "outputs": [],
      "source": []
    },
    {
      "cell_type": "code",
      "execution_count": null,
      "metadata": {
        "id": "tri1Akpdkf5H"
      },
      "outputs": [],
      "source": [
        "#save the model\n",
        "torch.save(model.state_dict(), 'model_weights.pth')"
      ]
    },
    {
      "cell_type": "code",
      "execution_count": null,
      "metadata": {
        "id": "4OaPtMT3tp-n"
      },
      "outputs": [],
      "source": [
        "import pickle\n",
        "\n",
        "# save vocab and label_vocab\n",
        "with open('vocab_data.pkl', 'wb') as fp:\n",
        "    pickle.dump(vocab, fp)\n",
        "    print('dictionary saved successfully to file')\n",
        "\n",
        "with open('label_vocab_data.pkl', 'wb') as fp:\n",
        "    pickle.dump(label_vocab, fp)\n",
        "    print('dictionary saved successfully to file')"
      ]
    },
    {
      "cell_type": "code",
      "source": [],
      "metadata": {
        "id": "XeG0cTtWZNsA"
      },
      "execution_count": null,
      "outputs": []
    }
  ],
  "metadata": {
    "colab": {
      "provenance": [],
      "include_colab_link": true
    },
    "kernelspec": {
      "display_name": "Python 3",
      "name": "python3"
    },
    "language_info": {
      "name": "python"
    },
    "widgets": {
      "application/vnd.jupyter.widget-state+json": {
        "67fa97756d1447f1905837ea568711b1": {
          "model_module": "@jupyter-widgets/controls",
          "model_name": "HBoxModel",
          "model_module_version": "1.5.0",
          "state": {
            "_dom_classes": [],
            "_model_module": "@jupyter-widgets/controls",
            "_model_module_version": "1.5.0",
            "_model_name": "HBoxModel",
            "_view_count": null,
            "_view_module": "@jupyter-widgets/controls",
            "_view_module_version": "1.5.0",
            "_view_name": "HBoxView",
            "box_style": "",
            "children": [
              "IPY_MODEL_e661a0ea37164102a63d629236a20024",
              "IPY_MODEL_1983b627e3f0405f99fb179482e1d08f",
              "IPY_MODEL_645d738934f740a4baeff76b18c7bf12"
            ],
            "layout": "IPY_MODEL_228fba89084445bfaf568bd5b806b0ce"
          }
        },
        "e661a0ea37164102a63d629236a20024": {
          "model_module": "@jupyter-widgets/controls",
          "model_name": "HTMLModel",
          "model_module_version": "1.5.0",
          "state": {
            "_dom_classes": [],
            "_model_module": "@jupyter-widgets/controls",
            "_model_module_version": "1.5.0",
            "_model_name": "HTMLModel",
            "_view_count": null,
            "_view_module": "@jupyter-widgets/controls",
            "_view_module_version": "1.5.0",
            "_view_name": "HTMLView",
            "description": "",
            "description_tooltip": null,
            "layout": "IPY_MODEL_085f79a7781f4489b2379bcf923a9726",
            "placeholder": "​",
            "style": "IPY_MODEL_249cbd2b135446fbb1f9320c5a5a1f7b",
            "value": " 20%"
          }
        },
        "1983b627e3f0405f99fb179482e1d08f": {
          "model_module": "@jupyter-widgets/controls",
          "model_name": "FloatProgressModel",
          "model_module_version": "1.5.0",
          "state": {
            "_dom_classes": [],
            "_model_module": "@jupyter-widgets/controls",
            "_model_module_version": "1.5.0",
            "_model_name": "FloatProgressModel",
            "_view_count": null,
            "_view_module": "@jupyter-widgets/controls",
            "_view_module_version": "1.5.0",
            "_view_name": "ProgressView",
            "bar_style": "",
            "description": "",
            "description_tooltip": null,
            "layout": "IPY_MODEL_ccc875b8705c4ffcad4adf836c919551",
            "max": 10,
            "min": 0,
            "orientation": "horizontal",
            "style": "IPY_MODEL_e557efb8473c4b6aa864de81374094aa",
            "value": 2
          }
        },
        "645d738934f740a4baeff76b18c7bf12": {
          "model_module": "@jupyter-widgets/controls",
          "model_name": "HTMLModel",
          "model_module_version": "1.5.0",
          "state": {
            "_dom_classes": [],
            "_model_module": "@jupyter-widgets/controls",
            "_model_module_version": "1.5.0",
            "_model_name": "HTMLModel",
            "_view_count": null,
            "_view_module": "@jupyter-widgets/controls",
            "_view_module_version": "1.5.0",
            "_view_name": "HTMLView",
            "description": "",
            "description_tooltip": null,
            "layout": "IPY_MODEL_f1091d9edae047a6996990e2236f74b6",
            "placeholder": "​",
            "style": "IPY_MODEL_2d2773ec89704b0d8b321870c406120f",
            "value": " 2/10 [03:11&lt;12:50, 96.35s/it]"
          }
        },
        "228fba89084445bfaf568bd5b806b0ce": {
          "model_module": "@jupyter-widgets/base",
          "model_name": "LayoutModel",
          "model_module_version": "1.2.0",
          "state": {
            "_model_module": "@jupyter-widgets/base",
            "_model_module_version": "1.2.0",
            "_model_name": "LayoutModel",
            "_view_count": null,
            "_view_module": "@jupyter-widgets/base",
            "_view_module_version": "1.2.0",
            "_view_name": "LayoutView",
            "align_content": null,
            "align_items": null,
            "align_self": null,
            "border": null,
            "bottom": null,
            "display": null,
            "flex": null,
            "flex_flow": null,
            "grid_area": null,
            "grid_auto_columns": null,
            "grid_auto_flow": null,
            "grid_auto_rows": null,
            "grid_column": null,
            "grid_gap": null,
            "grid_row": null,
            "grid_template_areas": null,
            "grid_template_columns": null,
            "grid_template_rows": null,
            "height": null,
            "justify_content": null,
            "justify_items": null,
            "left": null,
            "margin": null,
            "max_height": null,
            "max_width": null,
            "min_height": null,
            "min_width": null,
            "object_fit": null,
            "object_position": null,
            "order": null,
            "overflow": null,
            "overflow_x": null,
            "overflow_y": null,
            "padding": null,
            "right": null,
            "top": null,
            "visibility": null,
            "width": null
          }
        },
        "085f79a7781f4489b2379bcf923a9726": {
          "model_module": "@jupyter-widgets/base",
          "model_name": "LayoutModel",
          "model_module_version": "1.2.0",
          "state": {
            "_model_module": "@jupyter-widgets/base",
            "_model_module_version": "1.2.0",
            "_model_name": "LayoutModel",
            "_view_count": null,
            "_view_module": "@jupyter-widgets/base",
            "_view_module_version": "1.2.0",
            "_view_name": "LayoutView",
            "align_content": null,
            "align_items": null,
            "align_self": null,
            "border": null,
            "bottom": null,
            "display": null,
            "flex": null,
            "flex_flow": null,
            "grid_area": null,
            "grid_auto_columns": null,
            "grid_auto_flow": null,
            "grid_auto_rows": null,
            "grid_column": null,
            "grid_gap": null,
            "grid_row": null,
            "grid_template_areas": null,
            "grid_template_columns": null,
            "grid_template_rows": null,
            "height": null,
            "justify_content": null,
            "justify_items": null,
            "left": null,
            "margin": null,
            "max_height": null,
            "max_width": null,
            "min_height": null,
            "min_width": null,
            "object_fit": null,
            "object_position": null,
            "order": null,
            "overflow": null,
            "overflow_x": null,
            "overflow_y": null,
            "padding": null,
            "right": null,
            "top": null,
            "visibility": null,
            "width": null
          }
        },
        "249cbd2b135446fbb1f9320c5a5a1f7b": {
          "model_module": "@jupyter-widgets/controls",
          "model_name": "DescriptionStyleModel",
          "model_module_version": "1.5.0",
          "state": {
            "_model_module": "@jupyter-widgets/controls",
            "_model_module_version": "1.5.0",
            "_model_name": "DescriptionStyleModel",
            "_view_count": null,
            "_view_module": "@jupyter-widgets/base",
            "_view_module_version": "1.2.0",
            "_view_name": "StyleView",
            "description_width": ""
          }
        },
        "ccc875b8705c4ffcad4adf836c919551": {
          "model_module": "@jupyter-widgets/base",
          "model_name": "LayoutModel",
          "model_module_version": "1.2.0",
          "state": {
            "_model_module": "@jupyter-widgets/base",
            "_model_module_version": "1.2.0",
            "_model_name": "LayoutModel",
            "_view_count": null,
            "_view_module": "@jupyter-widgets/base",
            "_view_module_version": "1.2.0",
            "_view_name": "LayoutView",
            "align_content": null,
            "align_items": null,
            "align_self": null,
            "border": null,
            "bottom": null,
            "display": null,
            "flex": null,
            "flex_flow": null,
            "grid_area": null,
            "grid_auto_columns": null,
            "grid_auto_flow": null,
            "grid_auto_rows": null,
            "grid_column": null,
            "grid_gap": null,
            "grid_row": null,
            "grid_template_areas": null,
            "grid_template_columns": null,
            "grid_template_rows": null,
            "height": null,
            "justify_content": null,
            "justify_items": null,
            "left": null,
            "margin": null,
            "max_height": null,
            "max_width": null,
            "min_height": null,
            "min_width": null,
            "object_fit": null,
            "object_position": null,
            "order": null,
            "overflow": null,
            "overflow_x": null,
            "overflow_y": null,
            "padding": null,
            "right": null,
            "top": null,
            "visibility": null,
            "width": null
          }
        },
        "e557efb8473c4b6aa864de81374094aa": {
          "model_module": "@jupyter-widgets/controls",
          "model_name": "ProgressStyleModel",
          "model_module_version": "1.5.0",
          "state": {
            "_model_module": "@jupyter-widgets/controls",
            "_model_module_version": "1.5.0",
            "_model_name": "ProgressStyleModel",
            "_view_count": null,
            "_view_module": "@jupyter-widgets/base",
            "_view_module_version": "1.2.0",
            "_view_name": "StyleView",
            "bar_color": null,
            "description_width": ""
          }
        },
        "f1091d9edae047a6996990e2236f74b6": {
          "model_module": "@jupyter-widgets/base",
          "model_name": "LayoutModel",
          "model_module_version": "1.2.0",
          "state": {
            "_model_module": "@jupyter-widgets/base",
            "_model_module_version": "1.2.0",
            "_model_name": "LayoutModel",
            "_view_count": null,
            "_view_module": "@jupyter-widgets/base",
            "_view_module_version": "1.2.0",
            "_view_name": "LayoutView",
            "align_content": null,
            "align_items": null,
            "align_self": null,
            "border": null,
            "bottom": null,
            "display": null,
            "flex": null,
            "flex_flow": null,
            "grid_area": null,
            "grid_auto_columns": null,
            "grid_auto_flow": null,
            "grid_auto_rows": null,
            "grid_column": null,
            "grid_gap": null,
            "grid_row": null,
            "grid_template_areas": null,
            "grid_template_columns": null,
            "grid_template_rows": null,
            "height": null,
            "justify_content": null,
            "justify_items": null,
            "left": null,
            "margin": null,
            "max_height": null,
            "max_width": null,
            "min_height": null,
            "min_width": null,
            "object_fit": null,
            "object_position": null,
            "order": null,
            "overflow": null,
            "overflow_x": null,
            "overflow_y": null,
            "padding": null,
            "right": null,
            "top": null,
            "visibility": null,
            "width": null
          }
        },
        "2d2773ec89704b0d8b321870c406120f": {
          "model_module": "@jupyter-widgets/controls",
          "model_name": "DescriptionStyleModel",
          "model_module_version": "1.5.0",
          "state": {
            "_model_module": "@jupyter-widgets/controls",
            "_model_module_version": "1.5.0",
            "_model_name": "DescriptionStyleModel",
            "_view_count": null,
            "_view_module": "@jupyter-widgets/base",
            "_view_module_version": "1.2.0",
            "_view_name": "StyleView",
            "description_width": ""
          }
        }
      }
    }
  },
  "nbformat": 4,
  "nbformat_minor": 0
}